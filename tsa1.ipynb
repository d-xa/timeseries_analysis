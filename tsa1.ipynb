{
  "nbformat": 4,
  "nbformat_minor": 2,
  "metadata": {
    "colab": {
      "name": "tsa1.ipynb",
      "provenance": [],
      "toc_visible": true,
      "authorship_tag": "ABX9TyPwj27Ij1oZh09VYrDj8kYu",
      "include_colab_link": true
    },
    "kernelspec": {
      "name": "python3",
      "display_name": "Python 3.8.11 64-bit ('3.8.11': pyenv)"
    },
    "language_info": {
      "name": "python",
      "version": "3.8.11",
      "mimetype": "text/x-python",
      "codemirror_mode": {
        "name": "ipython",
        "version": 3
      },
      "pygments_lexer": "ipython3",
      "nbconvert_exporter": "python",
      "file_extension": ".py"
    },
    "interpreter": {
      "hash": "d323fba153b1628e24aa2082450662e96568bd5d447ca9960eaad98e8475e7bf"
    }
  },
  "cells": [
    {
      "cell_type": "markdown",
      "source": [
        "<a href=\"https://colab.research.google.com/github/d-xa/timeseries_analysis/blob/main/tsa1.ipynb\" target=\"_parent\"><img src=\"https://colab.research.google.com/assets/colab-badge.svg\" alt=\"Open In Colab\"/></a>"
      ],
      "metadata": {
        "id": "view-in-github",
        "colab_type": "text"
      }
    },
    {
      "cell_type": "code",
      "execution_count": 1,
      "source": [
        "pip install pandas"
      ],
      "outputs": [
        {
          "output_type": "stream",
          "name": "stdout",
          "text": [
            "Requirement already satisfied: pandas in /workspace/.pip-modules/lib/python3.8/site-packages (1.3.2)\n",
            "Requirement already satisfied: numpy>=1.17.3 in /workspace/.pip-modules/lib/python3.8/site-packages (from pandas) (1.21.2)\n",
            "Requirement already satisfied: python-dateutil>=2.7.3 in /home/gitpod/.pyenv/versions/3.8.11/lib/python3.8/site-packages (from pandas) (2.8.2)\n",
            "Requirement already satisfied: pytz>=2017.3 in /workspace/.pip-modules/lib/python3.8/site-packages (from pandas) (2021.1)\n",
            "Requirement already satisfied: six>=1.5 in /home/gitpod/.pyenv/versions/3.8.11/lib/python3.8/site-packages (from python-dateutil>=2.7.3->pandas) (1.16.0)\n",
            "\u001b[33mWARNING: You are using pip version 21.2.3; however, version 21.2.4 is available.\n",
            "You should consider upgrading via the '/home/gitpod/.pyenv/versions/3.8.11/bin/python -m pip install --upgrade pip' command.\u001b[0m\n",
            "Note: you may need to restart the kernel to use updated packages.\n"
          ]
        }
      ],
      "metadata": {}
    },
    {
      "cell_type": "markdown",
      "source": [
        "# Time Series Analysis 1"
      ],
      "metadata": {
        "id": "EFGIxF3ng1Ds"
      }
    },
    {
      "cell_type": "code",
      "execution_count": 4,
      "source": [
        "import pandas as pd\n",
        "\n",
        "test = {\"a\": 1, \"b\": 2}\n",
        "df = pd.DataFrame([test])\n",
        "print(df)"
      ],
      "outputs": [
        {
          "output_type": "stream",
          "name": "stdout",
          "text": [
            "   a  b\n",
            "0  1  2\n"
          ]
        }
      ],
      "metadata": {
        "id": "BFHrR7R7hP1g",
        "colab": {
          "base_uri": "https://localhost:8080/"
        },
        "outputId": "31625ebd-1132-4200-99bc-06c40e492850"
      }
    },
    {
      "cell_type": "code",
      "execution_count": 7,
      "source": [
        "gdp = pd.read_csv(\"./data/GDP.csv\")\n",
        "gdp.head"
      ],
      "outputs": [],
      "metadata": {}
    }
  ]
}