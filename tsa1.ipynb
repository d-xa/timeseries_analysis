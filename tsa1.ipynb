{
  "nbformat": 4,
  "nbformat_minor": 0,
  "metadata": {
    "colab": {
      "name": "tsa1.ipynb",
      "provenance": [],
      "toc_visible": true,
      "authorship_tag": "ABX9TyPwj27Ij1oZh09VYrDj8kYu",
      "include_colab_link": true
    },
    "kernelspec": {
      "name": "python3",
      "display_name": "Python 3"
    },
    "language_info": {
      "name": "python"
    }
  },
  "cells": [
    {
      "cell_type": "markdown",
      "metadata": {
        "id": "view-in-github",
        "colab_type": "text"
      },
      "source": [
        "<a href=\"https://colab.research.google.com/github/d-xa/timeseries_analysis/blob/main/tsa1.ipynb\" target=\"_parent\"><img src=\"https://colab.research.google.com/assets/colab-badge.svg\" alt=\"Open In Colab\"/></a>"
      ]
    },
    {
      "cell_type": "markdown",
      "metadata": {
        "id": "EFGIxF3ng1Ds"
      },
      "source": [
        "# Time Series Analysis 1"
      ]
    },
    {
      "cell_type": "code",
      "metadata": {
        "id": "BFHrR7R7hP1g",
        "colab": {
          "base_uri": "https://localhost:8080/"
        },
        "outputId": "31625ebd-1132-4200-99bc-06c40e492850"
      },
      "source": [
        "import pandas as pd\n",
        "\n",
        "test = {\"a\": 1, \"b\": 2}\n",
        "\n",
        "df = pd.DataFrame([test])\n",
        "\n",
        "print(df)\n"
      ],
      "execution_count": 4,
      "outputs": [
        {
          "output_type": "stream",
          "name": "stdout",
          "text": [
            "   a  b\n",
            "0  1  2\n"
          ]
        }
      ]
    }
  ]
}